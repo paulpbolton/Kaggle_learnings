{
 "cells": [
  {
   "cell_type": "code",
   "execution_count": 5,
   "id": "9a45c6ad",
   "metadata": {},
   "outputs": [],
   "source": [
    "import numpy as np\n",
    "import pandas as pd\n",
    "import os"
   ]
  },
  {
   "cell_type": "code",
   "execution_count": 2,
   "id": "45c3f12d",
   "metadata": {},
   "outputs": [
    {
     "data": {
      "text/plain": [
       "'/Users/paulbolton/Library/CloudStorage/OneDrive-AmplifiGroupLimited/04_Learnings/02_Personal_Projects/03_Kaggle/Kaggle_learnings/Titanic/code'"
      ]
     },
     "execution_count": 2,
     "metadata": {},
     "output_type": "execute_result"
    }
   ],
   "source": [
    "pwd"
   ]
  },
  {
   "cell_type": "code",
   "execution_count": 9,
   "id": "522cda39",
   "metadata": {},
   "outputs": [],
   "source": [
    "path = '/Users/paulbolton/Library/CloudStorage/OneDrive-AmplifiGroupLimited/04_Learnings/02_Personal_Projects/03_Kaggle/Kaggle_learnings/Titanic/data_set'"
   ]
  },
  {
   "cell_type": "code",
   "execution_count": 12,
   "id": "9c469aaa",
   "metadata": {},
   "outputs": [
    {
     "data": {
      "text/plain": [
       "['test.csv', 'train.csv', 'gender_submission.csv']"
      ]
     },
     "execution_count": 12,
     "metadata": {},
     "output_type": "execute_result"
    }
   ],
   "source": [
    "os.listdir(path)\n",
    "# os.walk(path)"
   ]
  },
  {
   "cell_type": "code",
   "execution_count": 16,
   "id": "44a613b7",
   "metadata": {},
   "outputs": [
    {
     "name": "stdout",
     "output_type": "stream",
     "text": [
      "/Users/paulbolton/Library/CloudStorage/OneDrive-AmplifiGroupLimited/04_Learnings/02_Personal_Projects/03_Kaggle/Kaggle_learnings/Titanic/data_set/test.csv\n",
      "/Users/paulbolton/Library/CloudStorage/OneDrive-AmplifiGroupLimited/04_Learnings/02_Personal_Projects/03_Kaggle/Kaggle_learnings/Titanic/data_set/train.csv\n",
      "/Users/paulbolton/Library/CloudStorage/OneDrive-AmplifiGroupLimited/04_Learnings/02_Personal_Projects/03_Kaggle/Kaggle_learnings/Titanic/data_set/gender_submission.csv\n"
     ]
    }
   ],
   "source": [
    "files = {}\n",
    "for dirname, _, filenames in os.walk(path):\n",
    "    for filename in filenames:\n",
    "        files[filename] = os.path.join(dirname, filename)\n",
    "        print(os.path.join(dirname, filename))"
   ]
  },
  {
   "cell_type": "code",
   "execution_count": 19,
   "id": "f4ba9650",
   "metadata": {},
   "outputs": [
    {
     "data": {
      "text/plain": [
       "{'test.csv': '/Users/paulbolton/Library/CloudStorage/OneDrive-AmplifiGroupLimited/04_Learnings/02_Personal_Projects/03_Kaggle/Kaggle_learnings/Titanic/data_set/test.csv',\n",
       " 'train.csv': '/Users/paulbolton/Library/CloudStorage/OneDrive-AmplifiGroupLimited/04_Learnings/02_Personal_Projects/03_Kaggle/Kaggle_learnings/Titanic/data_set/train.csv',\n",
       " 'gender_submission.csv': '/Users/paulbolton/Library/CloudStorage/OneDrive-AmplifiGroupLimited/04_Learnings/02_Personal_Projects/03_Kaggle/Kaggle_learnings/Titanic/data_set/gender_submission.csv'}"
      ]
     },
     "execution_count": 19,
     "metadata": {},
     "output_type": "execute_result"
    }
   ],
   "source": [
    "files"
   ]
  },
  {
   "cell_type": "code",
   "execution_count": 20,
   "id": "5e5278dd",
   "metadata": {},
   "outputs": [],
   "source": [
    "df_test = pd.read_csv(files['test.csv'])\n",
    "df_train = pd.read_csv(files['train.csv'])\n",
    "df_gender_submission = pd.read_csv(files['gender_submission.csv'])"
   ]
  },
  {
   "cell_type": "code",
   "execution_count": null,
   "id": "a9ea2332",
   "metadata": {},
   "outputs": [],
   "source": []
  }
 ],
 "metadata": {
  "kernelspec": {
   "display_name": "Python 3 (ipykernel)",
   "language": "python",
   "name": "python3"
  },
  "language_info": {
   "codemirror_mode": {
    "name": "ipython",
    "version": 3
   },
   "file_extension": ".py",
   "mimetype": "text/x-python",
   "name": "python",
   "nbconvert_exporter": "python",
   "pygments_lexer": "ipython3",
   "version": "3.9.12"
  }
 },
 "nbformat": 4,
 "nbformat_minor": 5
}
